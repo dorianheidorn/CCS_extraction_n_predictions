{
 "cells": [
  {
   "cell_type": "code",
   "id": "initial_id",
   "metadata": {
    "collapsed": true,
    "ExecuteTime": {
     "end_time": "2024-10-11T10:16:59.301677Z",
     "start_time": "2024-10-11T10:16:57.014843Z"
    }
   },
   "source": [
    "import pandas as pd\n",
    "import sklearn\n",
    "from sklearn.model_selection import train_test_split\n",
    "from sklearn.feature_extraction.text import TfidfVectorizer\n",
    "from sklearn.svm import SVC\n",
    "from sklearn.metrics import classification_report\n",
    "\n",
    "# loading dataset\n",
    "df = pd.read_csv('../out/extended_full_cleaned_paper.csv')\n",
    "\n",
    "# get some overview on dataset\n",
    "print(df.info)\n",
    "\n"
   ],
   "outputs": [
    {
     "name": "stdout",
     "output_type": "stream",
     "text": [
      "<bound method DataFrame.info of                  filename                                      doi  \\\n",
      "0     plain_text__3300231  https://doi.org/10.1145/3290605.3300231   \n",
      "1     plain_text__3300232  https://doi.org/10.1145/3290605.3300232   \n",
      "2     plain_text__3300233  https://doi.org/10.1145/3290605.3300233   \n",
      "3     plain_text__3300234  https://doi.org/10.1145/3290605.3300234   \n",
      "4     plain_text__3300235  https://doi.org/10.1145/3290605.3300350   \n",
      "...                   ...                                      ...   \n",
      "3576  plain_text__3581572  https://doi.org/10.1145/3544548.3581572   \n",
      "3577  plain_text__3581573  https://doi.org/10.1145/3544548.3581573   \n",
      "3578  plain_text__3581574  https://doi.org/10.1145/3544548.3581574   \n",
      "3579  plain_text__3581575  https://doi.org/10.1145/3544548.3581575   \n",
      "3580  plain_text__3582074  https://doi.org/10.1145/3544548.3582074   \n",
      "\n",
      "                                                authors  \\\n",
      "0     Lucas Franco  Colusso;Ridley  Jones;Sean  A. M...   \n",
      "1     Nithya  Sambasivan;Amna  Batool;Nova  Ahmed;La...   \n",
      "2     Saleema  Amershi;Dan  Weld;Mihaela  Vorvoreanu...   \n",
      "3     Carrie  Cai;Emily  Reif;Narayan  Hegde;Jason  ...   \n",
      "4                Shota  Yamanaka;Wolfgang  Stuerzlinger   \n",
      "...                                                 ...   \n",
      "3576  Cass  Zegura;Ben  Rydal  Shapiro;Robert  MacDo...   \n",
      "3577  Graham  Mcneill;Max  Sondag;Stewart  Powell;Ph...   \n",
      "3578  Zachary  A.  Pardos;Matthew  Tang;Ioannis  Ana...   \n",
      "3579  Gonzalo  Gabriel  Méndez;Luis  Galárraga;Kathe...   \n",
      "3580  Rena  Li;Sara  Kingsley;Chelsea  Fan;Proteeti ...   \n",
      "\n",
      "                                                  title  year  \\\n",
      "0              A Translational Science Model for HCI     2019   \n",
      "1      “They Don't Leave Us Alone Anywhere We Go”: G...  2019   \n",
      "2                Guidelines for Human-AI Interaction     2019   \n",
      "3      Refinement Tools for Coping with Imperfect Al...  2019   \n",
      "4      Modeling Fully and Partially Constrained Lass...  2019   \n",
      "...                                                 ...   ...   \n",
      "3576   “Moment to Moment”: A Situated View of Teachi...  2023   \n",
      "3577   From Asymptomatics to Zombies: Visualization-...  2023   \n",
      "3578   OATutor: An Open-source Adaptive Tutoring Sys...  2023   \n",
      "3579   Impressions and Strategies of Academic Adviso...  2023   \n",
      "3580   Participation and Division of Labor in User-D...  2023   \n",
      "\n",
      "                                               keywords  \\\n",
      "0     ['  Translational Science', 'Translational Res...   \n",
      "1     ['  Online abuse', 'Privacy', 'Stalking', 'Imp...   \n",
      "2     ['  Human-AI interaction', 'AI-infused systems...   \n",
      "3     ['  Human-AI interaction', 'machine learning',...   \n",
      "4     ['  Graphical User Interfaces', 'Human Motor P...   \n",
      "...                                                 ...   \n",
      "3576  ['  Computing ethics', 'Situated teaching and ...   \n",
      "3577  ['  Disease spread', 'Visualization', 'Childre...   \n",
      "3578  ['  Adaptive learning', 'intelligent tutoring ...   \n",
      "3579  ['  academic advising', 'course recommendation...   \n",
      "3580  ['  algorithm auditing', 'user-driven auditing...   \n",
      "\n",
      "                                                    ccs  \\\n",
      "0                     • **Human-centered computing** ;    \n",
      "1       • **Human-centered computing → Empirical stu...   \n",
      "2       • **Human-centered computing → Human compute...   \n",
      "3       • **Human-centered computing → Human compute...   \n",
      "4       • **Human-centered computing → HCI theory, c...   \n",
      "...                                                 ...   \n",
      "3576    • **Human-centered computing** ; • **Social ...   \n",
      "3577    • **Human-centered computing → Empirical stu...   \n",
      "3578    • **Applied computing → Education** ; • **Hu...   \n",
      "3579    • **Human-centered computing → Empirical stu...   \n",
      "3580    • **Human-centered computing → Human compute...   \n",
      "\n",
      "                                        specified_class  \\\n",
      "0                              human-centered computing   \n",
      "1     empirical studies in hci;human-centered computing   \n",
      "2     human computer interaction (hci);human-centere...   \n",
      "3     human computer interaction (hci);human-centere...   \n",
      "4     hci theory, concepts and models;human-centered...   \n",
      "...                                                 ...   \n",
      "3576  human-centered computing;social and profession...   \n",
      "3577  empirical studies in visualization;visualizati...   \n",
      "3578  applied computing;interactive systems and tool...   \n",
      "3579  empirical studies in visualization;visualizati...   \n",
      "3580  human computer interaction (hci);human-centere...   \n",
      "\n",
      "                                               abstract  \\\n",
      "0     Using scientific discoveries to inform design ...   \n",
      "1     South Asia faces one of the largest gender gap...   \n",
      "2     Advances in artificial intelligence AI frame o...   \n",
      "3     Machine learning ML is increasingly being used...   \n",
      "4     Lassoing objects is a basic function in illust...   \n",
      "...                                                 ...   \n",
      "3576  The HCI research community has long centered e...   \n",
      "3577  Throughout the COVID- pandemic visualizations ...   \n",
      "3578  Despite decades long establishment of effectiv...   \n",
      "3579  Academic advising brings numerous benefits to ...   \n",
      "3580  Recent years have witnessed an interesting phe...   \n",
      "\n",
      "                                               fulltext  \\\n",
      "0     Translational Science TS is the study of scien...   \n",
      "1     The Internet is expanding its reach across Sou...   \n",
      "2     Advances in artificial intelligence AI are ena...   \n",
      "3     Rapid advances in machine learning ML have mad...   \n",
      "4     Selecting multiple objects is a basic operatio...   \n",
      "...                                                 ...   \n",
      "3576  The HCI research community has long centered e...   \n",
      "3577  In March of when the World Health Organization...   \n",
      "3578  Adaptive learning systems based on Intelligent...   \n",
      "3579  Academic advising processes are implemented by...   \n",
      "3580  The presence of biases in algorithmic systems ...   \n",
      "\n",
      "                                       cleaned_abstract  \\\n",
      "0     scientific discovery inform design practice im...   \n",
      "1     south asia face large gender gap online global...   \n",
      "2     advance artificial intelligence ai frame oppor...   \n",
      "3     machine learn ml increasingly image retrieval ...   \n",
      "4     lassoing object basic function illustration so...   \n",
      "...                                                 ...   \n",
      "3576  hci research community long center ethic hci r...   \n",
      "3577  covid- pandemic visualization commonplace publ...   \n",
      "3578  despite decade long establishment effective tu...   \n",
      "3579  academic advising bring numerous benefit missi...   \n",
      "3580  recent year witness interesting phenomenon use...   \n",
      "\n",
      "                                       cleaned_fulltext  \n",
      "0     translational science ts study scientific know...  \n",
      "1     internet expand reach south asia user india wo...  \n",
      "2     advance artificial intelligence ai enable deve...  \n",
      "3     rapid advance machine learn ml increasingly ap...  \n",
      "4     select multiple object basic operation graphic...  \n",
      "...                                                 ...  \n",
      "3576  hci research community long center ethic hci r...  \n",
      "3577  march world health organization declare covid-...  \n",
      "3578  adaptive learning system base intelligent tuto...  \n",
      "3579  academic advising process implement higher edu...  \n",
      "3580  presence bias algorithmic system give rise aud...  \n",
      "\n",
      "[3581 rows x 12 columns]>\n",
      "Index(['filename', 'doi', 'authors', 'title', 'year', 'keywords', 'ccs',\n",
      "       'specified_class', 'abstract', 'fulltext', 'cleaned_abstract',\n",
      "       'cleaned_fulltext'],\n",
      "      dtype='object')\n"
     ]
    }
   ],
   "execution_count": 6
  },
  {
   "metadata": {
    "ExecuteTime": {
     "end_time": "2024-10-11T10:16:59.347415Z",
     "start_time": "2024-10-11T10:16:59.301677Z"
    }
   },
   "cell_type": "code",
   "source": [
    "import re\n",
    "\n",
    "#create list with all valid first occurences of ccs-categories per paper via dataset loaded above. extracted first_ccs categorie is saved into new column in df.\n",
    "tmp_list = list()\n",
    "\n",
    "for index, row in df.iterrows():\n",
    "    tmp = str(row.specified_class).split(\";\")\n",
    "    if tmp[0] == \"nan\":\n",
    "        tmp[0] = \"None\"\n",
    "    tmp_list.append(tmp[0])\n",
    "df['first_ccs'] = pd.Series(tmp_list)    "
   ],
   "id": "1d3c21df7ee951a2",
   "outputs": [],
   "execution_count": 7
  },
  {
   "metadata": {
    "ExecuteTime": {
     "end_time": "2024-10-11T10:17:02.342370Z",
     "start_time": "2024-10-11T10:16:59.347415Z"
    }
   },
   "cell_type": "code",
   "source": "df.to_csv('../out/extended_full_cleaned_paper_v2.csv', index=False) #save results to csv-file",
   "id": "ea9292863c151ba1",
   "outputs": [],
   "execution_count": 8
  },
  {
   "metadata": {
    "ExecuteTime": {
     "end_time": "2024-10-11T11:23:05.663756Z",
     "start_time": "2024-10-11T11:22:59.962487Z"
    }
   },
   "cell_type": "code",
   "source": [
    "# row cleaned_fulltext contains cleanded and via CCS_extraction.ipynb processed not empty fulltexts\n",
    "df = df[df['cleaned_fulltext'].notnull()]\n",
    "print(len(df))\n",
    "X = df['cleaned_fulltext']  #column with processed data\n",
    "y = df['first_ccs']  #first ccs categorization as groundtruth\n",
    "\n",
    "#split up test and train data\n",
    "X_train, X_test, y_train, y_test = train_test_split(X, y, test_size=0.2, random_state=42)\n",
    "\n",
    "vectorizer = TfidfVectorizer(max_features=5000)  #use tf-idf vectorizer model to convert text into numeric representation\n",
    "X_train_tfidf = vectorizer.fit_transform(X_train)\n",
    "X_test_tfidf = vectorizer.transform(X_test)\n",
    "\n",
    "print(\"y dimension: \", y.shape)"
   ],
   "id": "9cd0ff1c7abfed6",
   "outputs": [
    {
     "name": "stdout",
     "output_type": "stream",
     "text": [
      "3557\n",
      "y dimension:  (3557,)\n"
     ]
    }
   ],
   "execution_count": 75
  },
  {
   "metadata": {
    "ExecuteTime": {
     "end_time": "2024-10-11T10:49:27.784527Z",
     "start_time": "2024-10-11T10:49:27.777629Z"
    }
   },
   "cell_type": "code",
   "source": [
    "# intermezzo for visualizing\n",
    "stats = df.first_ccs.value_counts()\n",
    "stats\n"
   ],
   "id": "ed7204f15821c6ee",
   "outputs": [
    {
     "data": {
      "text/plain": [
       "empirical studies in hci            514\n",
       "human computer interaction (hci)    458\n",
       "hci theory, concepts and models     158\n",
       "security and privacy                143\n",
       "interactive systems and tools       132\n",
       "                                   ... \n",
       "multi / mixed media creation          1\n",
       "graphics input devices                1\n",
       "ubiquitous computing                  1\n",
       "social network analysis               1\n",
       "law                                   1\n",
       "Name: first_ccs, Length: 121, dtype: int64"
      ]
     },
     "execution_count": 69,
     "metadata": {},
     "output_type": "execute_result"
    }
   ],
   "execution_count": 69
  },
  {
   "metadata": {
    "ExecuteTime": {
     "end_time": "2024-10-11T10:49:40.931925Z",
     "start_time": "2024-10-11T10:49:40.793812Z"
    }
   },
   "cell_type": "code",
   "source": [
    "import matplotlib.pyplot as plt\n",
    "# some more visualizing\n",
    "\n",
    "stats = pd.DataFrame(columns=['first_ccs'], data=stats)\n",
    "print(stats.columns)\n",
    "stats_plt = stats.sort_values(by='first_ccs', ascending=False) #.iloc[0:20]\n",
    "stats_plt\n",
    "plt.bar(stats_plt.index, stats_plt.first_ccs, color='b')\n",
    "plt.ylabel(\"Anzahl Paper\")\n",
    "plt.xlabel(\"CCS-Kategorie\")    \n",
    "plt.xticks(rotation=90)\n",
    "plt.xticks([])\n",
    "# plt.title(\"Anzahl der Keywords pro Paper\")"
   ],
   "id": "82ff273d287e9dbf",
   "outputs": [
    {
     "name": "stdout",
     "output_type": "stream",
     "text": [
      "Index(['first_ccs'], dtype='object')\n"
     ]
    },
    {
     "data": {
      "text/plain": [
       "([], [])"
      ]
     },
     "execution_count": 71,
     "metadata": {},
     "output_type": "execute_result"
    },
    {
     "data": {
      "text/plain": [
       "<Figure size 640x480 with 1 Axes>"
      ],
      "image/png": "[encoded data removed]"
     },
     "metadata": {},
     "output_type": "display_data"
    }
   ],
   "execution_count": 71
  },
  {
   "metadata": {
    "ExecuteTime": {
     "end_time": "2024-10-11T11:26:07.408116Z",
     "start_time": "2024-10-11T11:23:10.498944Z"
    }
   },
   "cell_type": "code",
   "source": [
    "# create and train svm-model\n",
    "svm_model = SVC(kernel='linear') \n",
    "svm_model.fit(X_train_tfidf, y_train)\n",
    "\n",
    "# predict ccs-category on test data for verification\n",
    "y_pred = svm_model.predict(X_test_tfidf)"
   ],
   "id": "66a654508f82e1dd",
   "outputs": [],
   "execution_count": 76
  },
  {
   "metadata": {
    "ExecuteTime": {
     "end_time": "2024-10-11T11:26:07.424084Z",
     "start_time": "2024-10-11T11:26:07.409118Z"
    }
   },
   "cell_type": "code",
   "source": [
    "\n",
    "#get classification_report to verify quality\n",
    "print(classification_report(y_test, y_pred))\n"
   ],
   "id": "5bccc1d613634f5a",
   "outputs": [
    {
     "name": "stdout",
     "output_type": "stream",
     "text": [
      "                                                                   precision    recall  f1-score   support\n",
      "\n",
      "                                                             None       0.00      0.00      0.00         2\n",
      "                                                    accessibility       0.33      0.15      0.21        13\n",
      "                      accessibility design and evaluation methods       0.00      0.00      0.00         0\n",
      "                                  accessibility systems and tools       0.17      0.12      0.14         8\n",
      "                                       accessibility technologies       0.00      0.00      0.00         2\n",
      "                     accessibility theory, concepts and paradigms       0.00      0.00      0.00         3\n",
      "                                             ambient intelligence       0.00      0.00      0.00         0\n",
      "                                                applied computing       0.00      0.00      0.00         1\n",
      "                                                auditory feedback       0.00      0.00      0.00         2\n",
      "                               collaborative and social computing       0.00      0.00      0.00         6\n",
      "             collaborative and social computing systems and tools       0.00      0.00      0.00         4\n",
      "collaborative and social computing theory, concepts and paradigms       0.00      0.00      0.00         1\n",
      "                                        collaborative interaction       0.00      0.00      0.00         2\n",
      "                                           collaborative learning       0.00      0.00      0.00         2\n",
      "                                                   computer games       0.20      0.67      0.31         3\n",
      "                              computer supported cooperative work       0.00      0.00      0.00         4\n",
      "                                    computer systems organization       0.20      0.10      0.13        10\n",
      "                                    computer-assisted instruction       0.00      0.00      0.00         1\n",
      "                                          computing methodologies       0.25      0.14      0.18         7\n",
      "                                                distance learning       0.00      0.00      0.00         1\n",
      "                                                       e-learning       0.00      0.00      0.00         2\n",
      "                               empirical studies in accessibility       0.38      0.40      0.39        15\n",
      "          empirical studies in collaborative and social computing       0.17      0.19      0.18        21\n",
      "                                         empirical studies in hci       0.24      0.41      0.31        94\n",
      "                          empirical studies in interaction design       0.00      0.00      0.00         4\n",
      "                               empirical studies in visualization       0.29      0.25      0.27         8\n",
      "                                             ethnographic studies       0.00      0.00      0.00         2\n",
      "                                                    field studies       0.00      0.00      0.00         6\n",
      "                                                        fine arts       0.00      0.00      0.00         1\n",
      "                                         geographic visualization       0.00      0.00      0.00         0\n",
      "                                                   gestural input       0.25      0.20      0.22         5\n",
      "                                        graphical user interfaces       0.00      0.00      0.00         7\n",
      "                                           graphics input devices       0.00      0.00      0.00         1\n",
      "                                                   haptic devices       0.17      0.20      0.18        10\n",
      "                                                         hardware       0.00      0.00      0.00         4\n",
      "                                hci design and evaluation methods       0.00      0.00      0.00        12\n",
      "                                  hci theory, concepts and models       0.39      0.48      0.43        31\n",
      "                                               health informatics       0.00      0.00      0.00         1\n",
      "                                 human computer interaction (hci)       0.18      0.30      0.22        89\n",
      "                                         human-centered computing       0.14      0.05      0.07        21\n",
      "                                              information systems       0.00      0.00      0.00         9\n",
      "                                        information visualization       0.50      0.17      0.25         6\n",
      "                                               interaction design       0.00      0.00      0.00         6\n",
      "                           interaction design process and methods       0.00      0.00      0.00         5\n",
      "                interaction design theory, concepts and paradigms       0.00      0.00      0.00         3\n",
      "                                              interaction devices       0.40      0.29      0.33         7\n",
      "                                            interaction paradigms       0.00      0.00      0.00         2\n",
      "                                           interaction techniques       0.33      0.33      0.33        12\n",
      "                                interactive learning environments       0.00      0.00      0.00         2\n",
      "                                    interactive systems and tools       0.31      0.32      0.32        31\n",
      "                                     interface design prototyping       0.00      0.00      0.00         2\n",
      "                                                        keyboards       0.00      0.00      0.00         1\n",
      "                                           laboratory experiments       1.00      0.50      0.67         2\n",
      "                                        mixed / augmented reality       0.43      0.38      0.40        16\n",
      "                                                 mobile computing       0.18      0.17      0.17        12\n",
      "                                                   mobile devices       0.00      0.00      0.00         1\n",
      "                                      natural language interfaces       0.00      0.00      0.00         6\n",
      "                                                         networks       0.00      0.00      0.00         4\n",
      "                                             participatory design       0.33      0.25      0.29         4\n",
      "                                                         pointing       0.00      0.00      0.00         1\n",
      "                                         scientific visualization       0.00      0.00      0.00         1\n",
      "                                             security and privacy       0.59      0.46      0.52        28\n",
      "                                                      smartphones       0.00      0.00      0.00         2\n",
      "                                   social and professional topics       0.00      0.00      0.00        13\n",
      "                                           social content sharing       0.00      0.00      0.00         1\n",
      "                                                     social media       0.00      0.00      0.00         1\n",
      "                                          social networking sites       0.00      0.00      0.00         1\n",
      "                                     software and its engineering       0.00      0.00      0.00        25\n",
      "                                        sound and music computing       0.00      0.00      0.00         2\n",
      "                                       sound-based input / output       0.00      0.00      0.00         0\n",
      "                                            surveys and overviews       0.33      0.50      0.40         2\n",
      "                         systems and tools for interaction design       0.00      0.00      0.00         3\n",
      "                                                       text input       0.83      0.71      0.77         7\n",
      "                                                    touch screens       0.00      0.00      0.00         3\n",
      "                                                usability testing       1.00      1.00      1.00         1\n",
      "                                             user centered design       0.00      0.00      0.00         2\n",
      "                                            user interface design       0.00      0.00      0.00         4\n",
      "                                user interface management systems       0.00      0.00      0.00         2\n",
      "                                       user interface programming       0.00      0.00      0.00         2\n",
      "                                          user interface toolkits       0.00      0.00      0.00         3\n",
      "                                                      user models       0.17      0.12      0.14         8\n",
      "                                                     user studies       0.00      0.00      0.00        22\n",
      "                                                  virtual reality       0.46      0.50      0.48        24\n",
      "                                                 visual analytics       0.00      0.00      0.00         2\n",
      "                                                    visualization       0.00      0.00      0.00         5\n",
      "                      visualization design and evaluation methods       0.00      0.00      0.00         1\n",
      "                                  visualization systems and tools       0.17      0.50      0.25         2\n",
      "                                         visualization techniques       0.00      0.00      0.00         2\n",
      "                     visualization theory, concepts and paradigms       0.33      0.33      0.33         3\n",
      "                                           visualization toolkits       0.00      0.00      0.00         1\n",
      "                                            web-based interaction       0.00      0.00      0.00         1\n",
      "\n",
      "                                                         accuracy                           0.23       712\n",
      "                                                        macro avg       0.12      0.11      0.11       712\n",
      "                                                     weighted avg       0.21      0.23      0.21       712\n",
      "\n"
     ]
    },
    {
     "name": "stderr",
     "output_type": "stream",
     "text": [
      "C:\\Users\\Dorian\\PycharmProjects\\TextClassification_Bachelor_final\\.venv\\Lib\\site-packages\\sklearn\\metrics\\_classification.py:1531: UndefinedMetricWarning: Precision is ill-defined and being set to 0.0 in labels with no predicted samples. Use `zero_division` parameter to control this behavior.\n",
      "  _warn_prf(average, modifier, f\"{metric.capitalize()} is\", len(result))\n",
      "C:\\Users\\Dorian\\PycharmProjects\\TextClassification_Bachelor_final\\.venv\\Lib\\site-packages\\sklearn\\metrics\\_classification.py:1531: UndefinedMetricWarning: Recall is ill-defined and being set to 0.0 in labels with no true samples. Use `zero_division` parameter to control this behavior.\n",
      "  _warn_prf(average, modifier, f\"{metric.capitalize()} is\", len(result))\n",
      "C:\\Users\\Dorian\\PycharmProjects\\TextClassification_Bachelor_final\\.venv\\Lib\\site-packages\\sklearn\\metrics\\_classification.py:1531: UndefinedMetricWarning: Precision is ill-defined and being set to 0.0 in labels with no predicted samples. Use `zero_division` parameter to control this behavior.\n",
      "  _warn_prf(average, modifier, f\"{metric.capitalize()} is\", len(result))\n",
      "C:\\Users\\Dorian\\PycharmProjects\\TextClassification_Bachelor_final\\.venv\\Lib\\site-packages\\sklearn\\metrics\\_classification.py:1531: UndefinedMetricWarning: Recall is ill-defined and being set to 0.0 in labels with no true samples. Use `zero_division` parameter to control this behavior.\n",
      "  _warn_prf(average, modifier, f\"{metric.capitalize()} is\", len(result))\n",
      "C:\\Users\\Dorian\\PycharmProjects\\TextClassification_Bachelor_final\\.venv\\Lib\\site-packages\\sklearn\\metrics\\_classification.py:1531: UndefinedMetricWarning: Precision is ill-defined and being set to 0.0 in labels with no predicted samples. Use `zero_division` parameter to control this behavior.\n",
      "  _warn_prf(average, modifier, f\"{metric.capitalize()} is\", len(result))\n",
      "C:\\Users\\Dorian\\PycharmProjects\\TextClassification_Bachelor_final\\.venv\\Lib\\site-packages\\sklearn\\metrics\\_classification.py:1531: UndefinedMetricWarning: Recall is ill-defined and being set to 0.0 in labels with no true samples. Use `zero_division` parameter to control this behavior.\n",
      "  _warn_prf(average, modifier, f\"{metric.capitalize()} is\", len(result))\n"
     ]
    }
   ],
   "execution_count": 77
  },
  {
   "metadata": {},
   "cell_type": "code",
   "outputs": [],
   "execution_count": null,
   "source": [
    "# optional: if wanted test model on manually added paper-samples\n",
    "sample_paper_text = \"Dies ist ein Beispieltext\"  # put in some text example to be classified with model used above\n",
    "sample_tfidf = vectorizer.transform([sample_paper_text])\n",
    "sample_prediction = svm_model.predict(sample_tfidf)\n",
    "print(f\"Vorhergesagte CCS-Kategorisierung: {sample_prediction[0]}\")\n"
   ],
   "id": "9f0b4008abe3110f"
  }
 ],
 "metadata": {
  "kernelspec": {
   "display_name": "Python 3",
   "language": "python",
   "name": "python3"
  },
  "language_info": {
   "codemirror_mode": {
    "name": "ipython",
    "version": 2
   },
   "file_extension": ".py",
   "mimetype": "text/x-python",
   "name": "python",
   "nbconvert_exporter": "python",
   "pygments_lexer": "ipython2",
   "version": "2.7.6"
  }
 },
 "nbformat": 4,
 "nbformat_minor": 5
}
